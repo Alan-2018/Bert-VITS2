{
 "cells": [
  {
   "cell_type": "code",
   "execution_count": null,
   "metadata": {},
   "outputs": [],
   "source": [
    "import paddlenlp\n",
    "from paddlenlp.transformers import ErnieGramModel, ErnieGramTokenizer"
   ]
  },
  {
   "cell_type": "code",
   "execution_count": null,
   "metadata": {},
   "outputs": [],
   "source": [
    "# %pip install paddlenlp\n",
    "# print(paddlenlp.__version__)"
   ]
  },
  {
   "cell_type": "code",
   "execution_count": null,
   "metadata": {},
   "outputs": [],
   "source": [
    "tokenizer = ErnieGramTokenizer.from_pretrained('ernie-gram-zh')  \n",
    "model = ErnieGramModel.from_pretrained('ernie-gram-zh')"
   ]
  },
  {
   "cell_type": "code",
   "execution_count": null,
   "metadata": {},
   "outputs": [],
   "source": [
    "import os\n",
    "from modelscope.pipelines import pipeline\n",
    "fpath = os.path.abspath(os.path.join('/home/diy/congcan/source/bert-vits2/tests', \"../bert/IDEA-CCNL/Erlangshen-UniMC-MegatronBERT-1.3B-Chinese\")) # repo_id\n",
    "\n",
    "pipeline_ins = pipeline(\n",
    "\t'nli',\n",
    "\tmodel=fpath,\n",
    "\tmodel_revision='v1.0.0'\n",
    ")\n",
    "print(dir(pipeline_ins))\n",
    "\n",
    "\n"
   ]
  }
 ],
 "metadata": {
  "kernelspec": {
   "display_name": "bert-vits2",
   "language": "python",
   "name": "python3"
  },
  "language_info": {
   "codemirror_mode": {
    "name": "ipython",
    "version": 3
   },
   "file_extension": ".py",
   "mimetype": "text/x-python",
   "name": "python",
   "nbconvert_exporter": "python",
   "pygments_lexer": "ipython3",
   "version": "3.10.14"
  }
 },
 "nbformat": 4,
 "nbformat_minor": 2
}
