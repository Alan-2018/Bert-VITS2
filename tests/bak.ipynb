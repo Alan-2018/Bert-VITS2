{
 "cells": [
  {
   "cell_type": "markdown",
   "metadata": {},
   "source": [
    "bak"
   ]
  },
  {
   "cell_type": "markdown",
   "metadata": {},
   "source": [
    "202406\n",
    "\n",
    "\n",
    "dev 暂时封版；master-dev 开发分支；已合并 dev；持续变基母仓 master；\n",
    "\n",
    "\n",
    "BV2 branch master commit cc968b483232b33ee801e7448fcedf0b2fcd2517\n",
    "1. ./train_ms.py ```args = parser.parse_known_args()[0]```\n",
    "2. ./bert/bert_models.json 只保留 chinese-roberta-wwm-ext-large & deberta-v3-large；因为 ja 载入报错或者没有；\n",
    "\n",
    "\n"
   ]
  }
 ],
 "metadata": {
  "kernelspec": {
   "display_name": "Python 3",
   "language": "python",
   "name": "python3"
  },
  "language_info": {
   "codemirror_mode": {
    "name": "ipython",
    "version": 3
   },
   "file_extension": ".py",
   "mimetype": "text/x-python",
   "name": "python",
   "nbconvert_exporter": "python",
   "pygments_lexer": "ipython3",
   "version": "3.10.14"
  }
 },
 "nbformat": 4,
 "nbformat_minor": 2
}
